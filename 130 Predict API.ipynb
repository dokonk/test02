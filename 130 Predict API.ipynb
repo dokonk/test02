{
 "cells": [
  {
   "cell_type": "code",
   "execution_count": 1,
   "metadata": {},
   "outputs": [],
   "source": [
    "import numpy as np\n",
    "import pandas as pd\n",
    "import json"
   ]
  },
  {
   "cell_type": "code",
   "execution_count": 2,
   "metadata": {},
   "outputs": [],
   "source": [
    "input_data = {\n",
    "  \"Education\": 1,\n",
    "  \"ApplicantIncome\": 500,\n",
    "  \"CoapplicantIncome\": 0,\n",
    "  \"LoanAmount\": 146.4122,\n",
    "  \"Loan_Amount_Term\": 360,\n",
    "  \"Credit_History\": 1,\n",
    "  \"Property_Area\": 2,\n",
    "  \"Gender\": 1,\n",
    "  \"Self_Employed\": 0,\n",
    "  \"Dependents\": 0,\n",
    "  \"Married\": 0\n",
    "}"
   ]
  },
  {
   "cell_type": "code",
   "execution_count": null,
   "metadata": {},
   "outputs": [],
   "source": []
  },
  {
   "cell_type": "code",
   "execution_count": 3,
   "metadata": {},
   "outputs": [],
   "source": [
    "import pickle\n",
    "model = pickle.load(open(\"loan_rf.pickle.dat\", \"rb\"))"
   ]
  },
  {
   "cell_type": "code",
   "execution_count": 4,
   "metadata": {},
   "outputs": [],
   "source": [
    "#import pickle\n",
    "#model = pickle.loads(model_blob)"
   ]
  },
  {
   "cell_type": "code",
   "execution_count": null,
   "metadata": {},
   "outputs": [],
   "source": []
  },
  {
   "cell_type": "code",
   "execution_count": 5,
   "metadata": {},
   "outputs": [],
   "source": [
    "input_df = pd.DataFrame([input_data])"
   ]
  },
  {
   "cell_type": "code",
   "execution_count": 6,
   "metadata": {},
   "outputs": [],
   "source": [
    "prediction = model.predict(input_df)"
   ]
  },
  {
   "cell_type": "code",
   "execution_count": 7,
   "metadata": {},
   "outputs": [
    {
     "data": {
      "text/plain": [
       "numpy.int64"
      ]
     },
     "execution_count": 7,
     "metadata": {},
     "output_type": "execute_result"
    }
   ],
   "source": [
    "#prediction\n",
    "type(prediction[0])"
   ]
  },
  {
   "cell_type": "code",
   "execution_count": 8,
   "metadata": {},
   "outputs": [],
   "source": [
    "json_data = json.dumps({'Loan_prediction': str(prediction[0])})"
   ]
  },
  {
   "cell_type": "code",
   "execution_count": 9,
   "metadata": {},
   "outputs": [
    {
     "data": {
      "text/plain": [
       "'{\"Loan_prediction\": \"0\"}'"
      ]
     },
     "execution_count": 9,
     "metadata": {},
     "output_type": "execute_result"
    }
   ],
   "source": [
    "json_data"
   ]
  },
  {
   "cell_type": "code",
   "execution_count": null,
   "metadata": {},
   "outputs": [],
   "source": []
  },
  {
   "cell_type": "code",
   "execution_count": 10,
   "metadata": {},
   "outputs": [],
   "source": [
    "#msg.body = json.dumps({'Churn_prediction': str(prediction[0])})"
   ]
  },
  {
   "cell_type": "code",
   "execution_count": 11,
   "metadata": {},
   "outputs": [],
   "source": [
    "#new_attributes = {'message.request.id': msg.attributes['message.request.id']}\n",
    "#msg.attributes =  new_attributes\n",
    "#api.send('output', msg)"
   ]
  },
  {
   "cell_type": "code",
   "execution_count": null,
   "metadata": {},
   "outputs": [],
   "source": []
  },
  {
   "cell_type": "code",
   "execution_count": 12,
   "metadata": {},
   "outputs": [],
   "source": [
    "predict_df = pd.DataFrame({'Prediction': prediction})"
   ]
  },
  {
   "cell_type": "code",
   "execution_count": 13,
   "metadata": {},
   "outputs": [],
   "source": [
    "predicted_df = pd.concat([input_df, predict_df], axis=1)"
   ]
  },
  {
   "cell_type": "code",
   "execution_count": 14,
   "metadata": {},
   "outputs": [
    {
     "data": {
      "text/html": [
       "<div>\n",
       "<style scoped>\n",
       "    .dataframe tbody tr th:only-of-type {\n",
       "        vertical-align: middle;\n",
       "    }\n",
       "\n",
       "    .dataframe tbody tr th {\n",
       "        vertical-align: top;\n",
       "    }\n",
       "\n",
       "    .dataframe thead th {\n",
       "        text-align: right;\n",
       "    }\n",
       "</style>\n",
       "<table border=\"1\" class=\"dataframe\">\n",
       "  <thead>\n",
       "    <tr style=\"text-align: right;\">\n",
       "      <th></th>\n",
       "      <th>CreditScore</th>\n",
       "      <th>Age</th>\n",
       "      <th>Tenure</th>\n",
       "      <th>Balance</th>\n",
       "      <th>NumOfProducts</th>\n",
       "      <th>HasCrCard</th>\n",
       "      <th>IsActiveMember</th>\n",
       "      <th>EstimatedSalary</th>\n",
       "      <th>France</th>\n",
       "      <th>Germany</th>\n",
       "      <th>Spain</th>\n",
       "      <th>Female</th>\n",
       "      <th>Male</th>\n",
       "      <th>Prediction</th>\n",
       "    </tr>\n",
       "  </thead>\n",
       "  <tbody>\n",
       "    <tr>\n",
       "      <th>0</th>\n",
       "      <td>619</td>\n",
       "      <td>42</td>\n",
       "      <td>2</td>\n",
       "      <td>0.0</td>\n",
       "      <td>1</td>\n",
       "      <td>1</td>\n",
       "      <td>1</td>\n",
       "      <td>101348.88</td>\n",
       "      <td>1</td>\n",
       "      <td>0</td>\n",
       "      <td>0</td>\n",
       "      <td>1</td>\n",
       "      <td>0</td>\n",
       "      <td>1</td>\n",
       "    </tr>\n",
       "  </tbody>\n",
       "</table>\n",
       "</div>"
      ],
      "text/plain": [
       "   CreditScore  Age  Tenure  Balance  NumOfProducts  HasCrCard  \\\n",
       "0          619   42       2      0.0              1          1   \n",
       "\n",
       "   IsActiveMember  EstimatedSalary  France  Germany  Spain  Female  Male  \\\n",
       "0               1        101348.88       1        0      0       1     0   \n",
       "\n",
       "   Prediction  \n",
       "0           1  "
      ]
     },
     "execution_count": 14,
     "metadata": {},
     "output_type": "execute_result"
    }
   ],
   "source": [
    "predicted_df"
   ]
  },
  {
   "cell_type": "code",
   "execution_count": 15,
   "metadata": {},
   "outputs": [
    {
     "data": {
      "text/plain": [
       "[{'CreditScore': 619,\n",
       "  'Age': 42,\n",
       "  'Tenure': 2,\n",
       "  'Balance': 0.0,\n",
       "  'NumOfProducts': 1,\n",
       "  'HasCrCard': 1,\n",
       "  'IsActiveMember': 1,\n",
       "  'EstimatedSalary': 101348.88,\n",
       "  'France': 1,\n",
       "  'Germany': 0,\n",
       "  'Spain': 0,\n",
       "  'Female': 1,\n",
       "  'Male': 0,\n",
       "  'Prediction': 1}]"
      ]
     },
     "execution_count": 15,
     "metadata": {},
     "output_type": "execute_result"
    }
   ],
   "source": [
    "dict_data1 = predicted_df.to_dict(orient=\"records\")\n",
    "dict_data1"
   ]
  },
  {
   "cell_type": "code",
   "execution_count": 16,
   "metadata": {},
   "outputs": [
    {
     "data": {
      "text/plain": [
       "list"
      ]
     },
     "execution_count": 16,
     "metadata": {},
     "output_type": "execute_result"
    }
   ],
   "source": [
    "type(dict_data1)"
   ]
  },
  {
   "cell_type": "code",
   "execution_count": null,
   "metadata": {},
   "outputs": [],
   "source": []
  },
  {
   "cell_type": "code",
   "execution_count": 17,
   "metadata": {},
   "outputs": [
    {
     "data": {
      "text/plain": [
       "'[{\"CreditScore\":619,\"Age\":42,\"Tenure\":2,\"Balance\":0.0,\"NumOfProducts\":1,\"HasCrCard\":1,\"IsActiveMember\":1,\"EstimatedSalary\":101348.88,\"France\":1,\"Germany\":0,\"Spain\":0,\"Female\":1,\"Male\":0,\"Prediction\":1}]'"
      ]
     },
     "execution_count": 17,
     "metadata": {},
     "output_type": "execute_result"
    }
   ],
   "source": [
    "json_data1 = predicted_df.to_json(orient=\"records\")\n",
    "json_data1"
   ]
  },
  {
   "cell_type": "code",
   "execution_count": 18,
   "metadata": {},
   "outputs": [
    {
     "data": {
      "text/plain": [
       "str"
      ]
     },
     "execution_count": 18,
     "metadata": {},
     "output_type": "execute_result"
    }
   ],
   "source": [
    "type(json_data1)"
   ]
  },
  {
   "cell_type": "code",
   "execution_count": null,
   "metadata": {},
   "outputs": [],
   "source": []
  },
  {
   "cell_type": "code",
   "execution_count": 19,
   "metadata": {},
   "outputs": [
    {
     "data": {
      "text/plain": [
       "'[\\n    {\\n        \"CreditScore\": 619,\\n        \"Age\": 42,\\n        \"Tenure\": 2,\\n        \"Balance\": 0.0,\\n        \"NumOfProducts\": 1,\\n        \"HasCrCard\": 1,\\n        \"IsActiveMember\": 1,\\n        \"EstimatedSalary\": 101348.88,\\n        \"France\": 1,\\n        \"Germany\": 0,\\n        \"Spain\": 0,\\n        \"Female\": 1,\\n        \"Male\": 0,\\n        \"Prediction\": 1\\n    }\\n]'"
      ]
     },
     "execution_count": 19,
     "metadata": {},
     "output_type": "execute_result"
    }
   ],
   "source": [
    "data1 = json.dumps(dict_data1, indent=4)\n",
    "data1"
   ]
  },
  {
   "cell_type": "code",
   "execution_count": 20,
   "metadata": {},
   "outputs": [
    {
     "data": {
      "text/plain": [
       "'\"[{\\\\\"CreditScore\\\\\":619,\\\\\"Age\\\\\":42,\\\\\"Tenure\\\\\":2,\\\\\"Balance\\\\\":0.0,\\\\\"NumOfProducts\\\\\":1,\\\\\"HasCrCard\\\\\":1,\\\\\"IsActiveMember\\\\\":1,\\\\\"EstimatedSalary\\\\\":101348.88,\\\\\"France\\\\\":1,\\\\\"Germany\\\\\":0,\\\\\"Spain\\\\\":0,\\\\\"Female\\\\\":1,\\\\\"Male\\\\\":0,\\\\\"Prediction\\\\\":1}]\"'"
      ]
     },
     "execution_count": 20,
     "metadata": {},
     "output_type": "execute_result"
    }
   ],
   "source": [
    "data2 = json.dumps(json_data1, indent=4)\n",
    "data2"
   ]
  },
  {
   "cell_type": "code",
   "execution_count": null,
   "metadata": {},
   "outputs": [],
   "source": []
  },
  {
   "cell_type": "code",
   "execution_count": null,
   "metadata": {},
   "outputs": [],
   "source": [
    "{\n",
    "  \"Education\": \"Graduate\",\n",
    "  \"ApplicantIncome\": 500,\n",
    "  \"CoapplicantIncome\": 0,\n",
    "  \"LoanAmount\": 146.4122,\n",
    "  \"Loan_Amount_Term\": 360,\n",
    "  \"Credit_History\": 1,\n",
    "  \"Property_Area\": \"Urban\",\n",
    "  \"Gender\": \"Male\",\n",
    "  \"Self_Employed\": \"No\",\n",
    "  \"Dependents\": \"0\",\n",
    "  \"Married\": \"No\"\n",
    "}\n"
   ]
  }
 ],
 "metadata": {
  "createdAt": "2020-12-02T14:37:22Z",
  "createdBy": "ta29",
  "description": "",
  "kernelspec": {
   "display_name": "Python 3",
   "language": "python",
   "name": "python3"
  },
  "language_info": {
   "codemirror_mode": {
    "name": "ipython",
    "version": 3
   },
   "file_extension": ".py",
   "mimetype": "text/x-python",
   "name": "python",
   "nbconvert_exporter": "python",
   "pygments_lexer": "ipython3",
   "version": "3.7.3"
  },
  "modifiedAt": "2020-12-02T14:37:22Z",
  "modifiedBy": "ta29",
  "name": "Untitled.ipynb",
  "scenarioId": "71a4532f-99f0-425e-9483-654975e63659"
 },
 "nbformat": 4,
 "nbformat_minor": 4
}
